{
 "cells": [
  {
   "cell_type": "code",
   "execution_count": 1,
   "metadata": {},
   "outputs": [],
   "source": [
    "from etl import open_server_users\n",
    "from etl import open_server_engage\n",
    "from etl import open_server_payment\n",
    "from etl import open_server_battle\n",
    "from etl import open_server_resource\n",
    "from etl import server_open_nd\n",
    "import numpy as np\n",
    "from config import ETLConfig"
   ]
  },
  {
   "cell_type": "markdown",
   "metadata": {},
   "source": [
    "### 1. Open server settings\n",
    "\n",
    "1. Define the game you want to analyze\n",
    "2. Define days after server open you want data from\n",
    "3. Define server_ids"
   ]
  },
  {
   "cell_type": "code",
   "execution_count": 2,
   "metadata": {},
   "outputs": [],
   "source": [
    "from camel_utils_x.camel_sql import SQLBase"
   ]
  },
  {
   "cell_type": "code",
   "execution_count": 3,
   "metadata": {},
   "outputs": [],
   "source": [
    "game = 'aoz'\n",
    "\n",
    "days = 10\n",
    "\n",
    "server_ids = [123,234,5,6,7,8,9]"
   ]
  },
  {
   "cell_type": "markdown",
   "metadata": {},
   "source": [
    "### 2. Define server open\n",
    "Fields in returned dataframe will be used in making queries to each server"
   ]
  },
  {
   "cell_type": "code",
   "execution_count": 4,
   "metadata": {},
   "outputs": [
    {
     "data": {
      "text/html": [
       "<div>\n",
       "<style scoped>\n",
       "    .dataframe tbody tr th:only-of-type {\n",
       "        vertical-align: middle;\n",
       "    }\n",
       "\n",
       "    .dataframe tbody tr th {\n",
       "        vertical-align: top;\n",
       "    }\n",
       "\n",
       "    .dataframe thead th {\n",
       "        text-align: right;\n",
       "    }\n",
       "</style>\n",
       "<table border=\"1\" class=\"dataframe\">\n",
       "  <thead>\n",
       "    <tr style=\"text-align: right;\">\n",
       "      <th></th>\n",
       "      <th>open_time</th>\n",
       "      <th>open_date</th>\n",
       "      <th>open_10_date</th>\n",
       "      <th>open_10_date_id</th>\n",
       "      <th>open_date_id</th>\n",
       "    </tr>\n",
       "    <tr>\n",
       "      <th>server_id</th>\n",
       "      <th></th>\n",
       "      <th></th>\n",
       "      <th></th>\n",
       "      <th></th>\n",
       "      <th></th>\n",
       "    </tr>\n",
       "  </thead>\n",
       "  <tbody>\n",
       "    <tr>\n",
       "      <th>0</th>\n",
       "      <td>2020-08-10</td>\n",
       "      <td>2020-08-10</td>\n",
       "      <td>2020-08-20</td>\n",
       "      <td>20200820</td>\n",
       "      <td>20200810</td>\n",
       "    </tr>\n",
       "    <tr>\n",
       "      <th>1</th>\n",
       "      <td>2018-09-20</td>\n",
       "      <td>2018-09-20</td>\n",
       "      <td>2018-09-30</td>\n",
       "      <td>20180930</td>\n",
       "      <td>20180920</td>\n",
       "    </tr>\n",
       "    <tr>\n",
       "      <th>2</th>\n",
       "      <td>2018-10-25</td>\n",
       "      <td>2018-10-25</td>\n",
       "      <td>2018-11-04</td>\n",
       "      <td>20181104</td>\n",
       "      <td>20181025</td>\n",
       "    </tr>\n",
       "    <tr>\n",
       "      <th>3</th>\n",
       "      <td>2018-11-16</td>\n",
       "      <td>2018-11-16</td>\n",
       "      <td>2018-11-26</td>\n",
       "      <td>20181126</td>\n",
       "      <td>20181116</td>\n",
       "    </tr>\n",
       "    <tr>\n",
       "      <th>4</th>\n",
       "      <td>2018-11-18</td>\n",
       "      <td>2018-11-18</td>\n",
       "      <td>2018-11-28</td>\n",
       "      <td>20181128</td>\n",
       "      <td>20181118</td>\n",
       "    </tr>\n",
       "    <tr>\n",
       "      <th>...</th>\n",
       "      <td>...</td>\n",
       "      <td>...</td>\n",
       "      <td>...</td>\n",
       "      <td>...</td>\n",
       "      <td>...</td>\n",
       "    </tr>\n",
       "    <tr>\n",
       "      <th>348</th>\n",
       "      <td>2020-11-18</td>\n",
       "      <td>2020-11-18</td>\n",
       "      <td>2020-11-28</td>\n",
       "      <td>20201128</td>\n",
       "      <td>20201118</td>\n",
       "    </tr>\n",
       "    <tr>\n",
       "      <th>349</th>\n",
       "      <td>2020-11-20</td>\n",
       "      <td>2020-11-20</td>\n",
       "      <td>2020-11-30</td>\n",
       "      <td>20201130</td>\n",
       "      <td>20201120</td>\n",
       "    </tr>\n",
       "    <tr>\n",
       "      <th>350</th>\n",
       "      <td>2020-11-22</td>\n",
       "      <td>2020-11-22</td>\n",
       "      <td>2020-12-02</td>\n",
       "      <td>20201202</td>\n",
       "      <td>20201122</td>\n",
       "    </tr>\n",
       "    <tr>\n",
       "      <th>351</th>\n",
       "      <td>2020-11-23</td>\n",
       "      <td>2020-11-23</td>\n",
       "      <td>2020-12-03</td>\n",
       "      <td>20201203</td>\n",
       "      <td>20201123</td>\n",
       "    </tr>\n",
       "    <tr>\n",
       "      <th>352</th>\n",
       "      <td>2020-11-26</td>\n",
       "      <td>2020-11-26</td>\n",
       "      <td>2020-12-06</td>\n",
       "      <td>20201206</td>\n",
       "      <td>20201126</td>\n",
       "    </tr>\n",
       "  </tbody>\n",
       "</table>\n",
       "<p>353 rows × 5 columns</p>\n",
       "</div>"
      ],
      "text/plain": [
       "           open_time   open_date open_10_date open_10_date_id open_date_id\n",
       "server_id                                                                 \n",
       "0         2020-08-10  2020-08-10   2020-08-20        20200820     20200810\n",
       "1         2018-09-20  2018-09-20   2018-09-30        20180930     20180920\n",
       "2         2018-10-25  2018-10-25   2018-11-04        20181104     20181025\n",
       "3         2018-11-16  2018-11-16   2018-11-26        20181126     20181116\n",
       "4         2018-11-18  2018-11-18   2018-11-28        20181128     20181118\n",
       "...              ...         ...          ...             ...          ...\n",
       "348       2020-11-18  2020-11-18   2020-11-28        20201128     20201118\n",
       "349       2020-11-20  2020-11-20   2020-11-30        20201130     20201120\n",
       "350       2020-11-22  2020-11-22   2020-12-02        20201202     20201122\n",
       "351       2020-11-23  2020-11-23   2020-12-03        20201203     20201123\n",
       "352       2020-11-26  2020-11-26   2020-12-06        20201206     20201126\n",
       "\n",
       "[353 rows x 5 columns]"
      ]
     },
     "execution_count": 4,
     "metadata": {},
     "output_type": "execute_result"
    }
   ],
   "source": [
    "# unshifted version of server open\n",
    "server_open_nd()"
   ]
  },
  {
   "cell_type": "code",
   "execution_count": 5,
   "metadata": {},
   "outputs": [
    {
     "data": {
      "text/html": [
       "<div>\n",
       "<style scoped>\n",
       "    .dataframe tbody tr th:only-of-type {\n",
       "        vertical-align: middle;\n",
       "    }\n",
       "\n",
       "    .dataframe tbody tr th {\n",
       "        vertical-align: top;\n",
       "    }\n",
       "\n",
       "    .dataframe thead th {\n",
       "        text-align: right;\n",
       "    }\n",
       "</style>\n",
       "<table border=\"1\" class=\"dataframe\">\n",
       "  <thead>\n",
       "    <tr style=\"text-align: right;\">\n",
       "      <th></th>\n",
       "      <th>open_time</th>\n",
       "      <th>open_date</th>\n",
       "      <th>open_20_date</th>\n",
       "      <th>open_20_date_id</th>\n",
       "      <th>open_date_id</th>\n",
       "    </tr>\n",
       "    <tr>\n",
       "      <th>server_id</th>\n",
       "      <th></th>\n",
       "      <th></th>\n",
       "      <th></th>\n",
       "      <th></th>\n",
       "      <th></th>\n",
       "    </tr>\n",
       "  </thead>\n",
       "  <tbody>\n",
       "    <tr>\n",
       "      <th>0</th>\n",
       "      <td>2020-08-20</td>\n",
       "      <td>2020-08-20</td>\n",
       "      <td>2020-09-09</td>\n",
       "      <td>20200909</td>\n",
       "      <td>20200820</td>\n",
       "    </tr>\n",
       "    <tr>\n",
       "      <th>1</th>\n",
       "      <td>2018-09-30</td>\n",
       "      <td>2018-09-30</td>\n",
       "      <td>2018-10-20</td>\n",
       "      <td>20181020</td>\n",
       "      <td>20180930</td>\n",
       "    </tr>\n",
       "    <tr>\n",
       "      <th>2</th>\n",
       "      <td>2018-11-04</td>\n",
       "      <td>2018-11-04</td>\n",
       "      <td>2018-11-24</td>\n",
       "      <td>20181124</td>\n",
       "      <td>20181104</td>\n",
       "    </tr>\n",
       "    <tr>\n",
       "      <th>3</th>\n",
       "      <td>2018-11-26</td>\n",
       "      <td>2018-11-26</td>\n",
       "      <td>2018-12-16</td>\n",
       "      <td>20181216</td>\n",
       "      <td>20181126</td>\n",
       "    </tr>\n",
       "    <tr>\n",
       "      <th>4</th>\n",
       "      <td>2018-11-28</td>\n",
       "      <td>2018-11-28</td>\n",
       "      <td>2018-12-18</td>\n",
       "      <td>20181218</td>\n",
       "      <td>20181128</td>\n",
       "    </tr>\n",
       "    <tr>\n",
       "      <th>...</th>\n",
       "      <td>...</td>\n",
       "      <td>...</td>\n",
       "      <td>...</td>\n",
       "      <td>...</td>\n",
       "      <td>...</td>\n",
       "    </tr>\n",
       "    <tr>\n",
       "      <th>348</th>\n",
       "      <td>2020-11-28</td>\n",
       "      <td>2020-11-28</td>\n",
       "      <td>2020-12-18</td>\n",
       "      <td>20201218</td>\n",
       "      <td>20201128</td>\n",
       "    </tr>\n",
       "    <tr>\n",
       "      <th>349</th>\n",
       "      <td>2020-11-30</td>\n",
       "      <td>2020-11-30</td>\n",
       "      <td>2020-12-20</td>\n",
       "      <td>20201220</td>\n",
       "      <td>20201130</td>\n",
       "    </tr>\n",
       "    <tr>\n",
       "      <th>350</th>\n",
       "      <td>2020-12-02</td>\n",
       "      <td>2020-12-02</td>\n",
       "      <td>2020-12-22</td>\n",
       "      <td>20201222</td>\n",
       "      <td>20201202</td>\n",
       "    </tr>\n",
       "    <tr>\n",
       "      <th>351</th>\n",
       "      <td>2020-12-03</td>\n",
       "      <td>2020-12-03</td>\n",
       "      <td>2020-12-23</td>\n",
       "      <td>20201223</td>\n",
       "      <td>20201203</td>\n",
       "    </tr>\n",
       "    <tr>\n",
       "      <th>352</th>\n",
       "      <td>2020-12-06</td>\n",
       "      <td>2020-12-06</td>\n",
       "      <td>2020-12-26</td>\n",
       "      <td>20201226</td>\n",
       "      <td>20201206</td>\n",
       "    </tr>\n",
       "  </tbody>\n",
       "</table>\n",
       "<p>353 rows × 5 columns</p>\n",
       "</div>"
      ],
      "text/plain": [
       "           open_time   open_date open_20_date open_20_date_id open_date_id\n",
       "server_id                                                                 \n",
       "0         2020-08-20  2020-08-20   2020-09-09        20200909     20200820\n",
       "1         2018-09-30  2018-09-30   2018-10-20        20181020     20180930\n",
       "2         2018-11-04  2018-11-04   2018-11-24        20181124     20181104\n",
       "3         2018-11-26  2018-11-26   2018-12-16        20181216     20181126\n",
       "4         2018-11-28  2018-11-28   2018-12-18        20181218     20181128\n",
       "...              ...         ...          ...             ...          ...\n",
       "348       2020-11-28  2020-11-28   2020-12-18        20201218     20201128\n",
       "349       2020-11-30  2020-11-30   2020-12-20        20201220     20201130\n",
       "350       2020-12-02  2020-12-02   2020-12-22        20201222     20201202\n",
       "351       2020-12-03  2020-12-03   2020-12-23        20201223     20201203\n",
       "352       2020-12-06  2020-12-06   2020-12-26        20201226     20201206\n",
       "\n",
       "[353 rows x 5 columns]"
      ]
     },
     "execution_count": 5,
     "metadata": {},
     "output_type": "execute_result"
    }
   ],
   "source": [
    "# shifted version of sever open\n",
    "server_open_nd(offset = 10, days = 20)"
   ]
  },
  {
   "cell_type": "markdown",
   "metadata": {},
   "source": [
    "### Making queries"
   ]
  },
  {
   "cell_type": "markdown",
   "metadata": {},
   "source": [
    "*On User*"
   ]
  },
  {
   "cell_type": "code",
   "execution_count": 6,
   "metadata": {},
   "outputs": [
    {
     "name": "stderr",
     "output_type": "stream",
     "text": [
      "UserInfo: 234: 100%|████████████████████████████████████████| 1/1 [00:00<00:00,  5.56it/s]\n",
      "UserType: 234: 100%|████████████████████████████████████████| 1/1 [00:06<00:00,  6.44s/it]\n"
     ]
    }
   ],
   "source": [
    "user = open_server_users(server_ids = [234],days = 5, offset = 3, fields = ['id','create_time','language'])"
   ]
  },
  {
   "cell_type": "markdown",
   "metadata": {},
   "source": [
    "**From this line, we see that server 234 is opened on 2020-5-3**"
   ]
  },
  {
   "cell_type": "code",
   "execution_count": 7,
   "metadata": {},
   "outputs": [
    {
     "data": {
      "text/plain": [
       "open_time          2020-05-03 00:00:00\n",
       "open_date                   2020-05-03\n",
       "open_10_date                2020-05-13\n",
       "open_10_date_id               20200513\n",
       "open_date_id                  20200503\n",
       "Name: 234, dtype: object"
      ]
     },
     "execution_count": 7,
     "metadata": {},
     "output_type": "execute_result"
    }
   ],
   "source": [
    "server_open_nd(game).loc[234]"
   ]
  },
  {
   "cell_type": "markdown",
   "metadata": {},
   "source": [
    "**Since we shifted 3 days, the start date wound be 2020-5-6**         \n",
    "**Setting days = 5, enables stopping at 2020-5-11 (excluded)**"
   ]
  },
  {
   "cell_type": "code",
   "execution_count": 8,
   "metadata": {},
   "outputs": [
    {
     "data": {
      "text/plain": [
       "open_time         2020-05-06 00:00:00\n",
       "open_date                  2020-05-06\n",
       "open_5_date                2020-05-11\n",
       "open_5_date_id               20200511\n",
       "open_date_id                 20200506\n",
       "Name: 234, dtype: object"
      ]
     },
     "execution_count": 8,
     "metadata": {},
     "output_type": "execute_result"
    }
   ],
   "source": [
    "server_open_nd(game, offset = 3, days = 5).loc[234]"
   ]
  },
  {
   "cell_type": "markdown",
   "metadata": {},
   "source": [
    "**Check dates in dataframe**"
   ]
  },
  {
   "cell_type": "code",
   "execution_count": 23,
   "metadata": {},
   "outputs": [
    {
     "data": {
      "text/plain": [
       "[datetime.date(2020, 5, 6),\n",
       " datetime.date(2020, 5, 7),\n",
       " datetime.date(2020, 5, 8),\n",
       " datetime.date(2020, 5, 9),\n",
       " datetime.date(2020, 5, 10)]"
      ]
     },
     "execution_count": 23,
     "metadata": {},
     "output_type": "execute_result"
    }
   ],
   "source": [
    "sorted(user.date.dt.date.unique())"
   ]
  },
  {
   "cell_type": "markdown",
   "metadata": {},
   "source": [
    "*On engage / with same days and offset configurations*"
   ]
  },
  {
   "cell_type": "code",
   "execution_count": 10,
   "metadata": {},
   "outputs": [
    {
     "name": "stderr",
     "output_type": "stream",
     "text": [
      "Engagement 234: 100%|███████████████████████████████████████| 1/1 [00:01<00:00,  1.93s/it]\n"
     ]
    }
   ],
   "source": [
    "engage = open_server_engage(server_ids = [234], days = 5, offset = 3)"
   ]
  },
  {
   "cell_type": "code",
   "execution_count": 11,
   "metadata": {},
   "outputs": [
    {
     "data": {
      "text/plain": [
       "[datetime.date(2020, 5, 6),\n",
       " datetime.date(2020, 5, 7),\n",
       " datetime.date(2020, 5, 8),\n",
       " datetime.date(2020, 5, 9),\n",
       " datetime.date(2020, 5, 10)]"
      ]
     },
     "execution_count": 11,
     "metadata": {},
     "output_type": "execute_result"
    }
   ],
   "source": [
    "sorted(engage.date.unique())"
   ]
  },
  {
   "cell_type": "markdown",
   "metadata": {},
   "source": [
    "**If a server open dataframe is  passed into query functions, no additional open server queries execution inside queryies**"
   ]
  },
  {
   "cell_type": "code",
   "execution_count": 18,
   "metadata": {},
   "outputs": [
    {
     "name": "stderr",
     "output_type": "stream",
     "text": [
      "UserInfo: 234: 100%|████████████████████████████████████████| 1/1 [00:00<00:00,  6.94it/s]\n",
      "UserType: 234: 100%|████████████████████████████████████████| 1/1 [00:05<00:00,  5.96s/it]\n",
      "Engagement 234: 100%|███████████████████████████████████████| 1/1 [00:01<00:00,  1.65s/it]\n",
      "Payment 234: 100%|██████████████████████████████████████████| 1/1 [00:00<00:00,  2.84it/s]\n",
      "Battle 234: 100%|███████████████████████████████████████████| 1/1 [00:02<00:00,  2.67s/it]\n",
      "Resource 234: 100%|█████████████████████████████████████████| 1/1 [00:02<00:00,  2.19s/it]\n"
     ]
    }
   ],
   "source": [
    "server_open = server_open_nd(game = game, offset = 3, days = 5)\n",
    "\n",
    "user = open_server_users(server_ids = [234], fields = ['id','create_time','language'], \n",
    "                         server_open = server_open, days = 5,offset = 3)\n",
    "\n",
    "engage = open_server_engage(server_ids = [234], server_open = server_open, days = 5, offset = 3)\n",
    "\n",
    "payment = open_server_payment(server_ids = [234], server_open = server_open, days = 5, offset = 3)\n",
    "\n",
    "battle = open_server_battle(server_ids = [234], server_open = server_open, days = 5, offset = 3)\n",
    "\n",
    "resource = open_server_resource(server_ids = [234], server_open = server_open, days = 5, offset = 3)"
   ]
  },
  {
   "cell_type": "markdown",
   "metadata": {},
   "source": [
    "*Check user table*"
   ]
  },
  {
   "cell_type": "code",
   "execution_count": 24,
   "metadata": {},
   "outputs": [
    {
     "data": {
      "text/plain": [
       "[datetime.date(2020, 5, 6),\n",
       " datetime.date(2020, 5, 7),\n",
       " datetime.date(2020, 5, 8),\n",
       " datetime.date(2020, 5, 9),\n",
       " datetime.date(2020, 5, 10)]"
      ]
     },
     "execution_count": 24,
     "metadata": {},
     "output_type": "execute_result"
    }
   ],
   "source": [
    "sorted(user.date.dt.date.unique())"
   ]
  },
  {
   "cell_type": "markdown",
   "metadata": {},
   "source": [
    "*Check engage table*"
   ]
  },
  {
   "cell_type": "code",
   "execution_count": 14,
   "metadata": {},
   "outputs": [
    {
     "data": {
      "text/plain": [
       "[datetime.date(2020, 5, 6),\n",
       " datetime.date(2020, 5, 7),\n",
       " datetime.date(2020, 5, 8),\n",
       " datetime.date(2020, 5, 9),\n",
       " datetime.date(2020, 5, 10)]"
      ]
     },
     "execution_count": 14,
     "metadata": {},
     "output_type": "execute_result"
    }
   ],
   "source": [
    "sorted(engage.date.unique())"
   ]
  },
  {
   "cell_type": "markdown",
   "metadata": {},
   "source": [
    "*Check payment table*"
   ]
  },
  {
   "cell_type": "code",
   "execution_count": 15,
   "metadata": {},
   "outputs": [
    {
     "data": {
      "text/plain": [
       "array(['2020-05-06', '2020-05-07', '2020-05-08', '2020-05-09',\n",
       "       '2020-05-10'], dtype=object)"
      ]
     },
     "execution_count": 15,
     "metadata": {},
     "output_type": "execute_result"
    }
   ],
   "source": [
    "payment.date.dt.strftime('%Y-%m-%d').unique()"
   ]
  },
  {
   "cell_type": "markdown",
   "metadata": {},
   "source": [
    "*Check battle table*"
   ]
  },
  {
   "cell_type": "code",
   "execution_count": 16,
   "metadata": {},
   "outputs": [
    {
     "data": {
      "text/plain": [
       "[datetime.date(2020, 5, 6),\n",
       " datetime.date(2020, 5, 7),\n",
       " datetime.date(2020, 5, 8),\n",
       " datetime.date(2020, 5, 9),\n",
       " datetime.date(2020, 5, 10)]"
      ]
     },
     "execution_count": 16,
     "metadata": {},
     "output_type": "execute_result"
    }
   ],
   "source": [
    "sorted(battle.date.unique())"
   ]
  },
  {
   "cell_type": "markdown",
   "metadata": {},
   "source": [
    "*Check resource table*"
   ]
  },
  {
   "cell_type": "code",
   "execution_count": 21,
   "metadata": {},
   "outputs": [
    {
     "data": {
      "text/plain": [
       "[datetime.date(2020, 5, 6),\n",
       " datetime.date(2020, 5, 7),\n",
       " datetime.date(2020, 5, 8),\n",
       " datetime.date(2020, 5, 9),\n",
       " datetime.date(2020, 5, 10)]"
      ]
     },
     "execution_count": 21,
     "metadata": {},
     "output_type": "execute_result"
    }
   ],
   "source": [
    "sorted(resource.date.unique())"
   ]
  },
  {
   "cell_type": "markdown",
   "metadata": {},
   "source": [
    "------------\n",
    "------------"
   ]
  },
  {
   "cell_type": "code",
   "execution_count": null,
   "metadata": {},
   "outputs": [],
   "source": []
  }
 ],
 "metadata": {
  "kernelspec": {
   "display_name": "Python 3",
   "language": "python",
   "name": "python3"
  },
  "language_info": {
   "codemirror_mode": {
    "name": "ipython",
    "version": 3
   },
   "file_extension": ".py",
   "mimetype": "text/x-python",
   "name": "python",
   "nbconvert_exporter": "python",
   "pygments_lexer": "ipython3",
   "version": "3.7.4"
  }
 },
 "nbformat": 4,
 "nbformat_minor": 4
}
